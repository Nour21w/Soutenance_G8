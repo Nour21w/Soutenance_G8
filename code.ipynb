{
 "cells": [
  {
   "cell_type": "code",
   "execution_count": 1,
   "metadata": {},
   "outputs": [],
   "source": [
    "import pandas as pd\n",
    "import numpy as np\n",
    "from sklearn.model_selection import train_test_split\n",
    "from sklearn.metrics import accuracy_score, confusion_matrix\n",
    "from collections import Counter\n",
    "import warnings\n",
    "warnings.filterwarnings('ignore')\n",
    "import seaborn as sns\n",
    "import matplotlib.pyplot as plt\n",
    "from sklearn import metrics\n",
    "from sklearn.metrics import classification_report\n",
    "from imblearn.over_sampling import SMOTE\n",
    "from sklearn.preprocessing import MinMaxScaler"
   ]
  },
  {
   "cell_type": "code",
   "execution_count": 2,
   "metadata": {},
   "outputs": [],
   "source": [
    "#L'emplacement de la bd:\n",
    "url = \"C:/Users/elmer/pfe/credit.csv\""
   ]
  },
  {
   "cell_type": "code",
   "execution_count": 3,
   "metadata": {},
   "outputs": [],
   "source": [
    "#La lecture des données\n",
    "data = pd.read_csv(url)"
   ]
  },
  {
   "cell_type": "code",
   "execution_count": 4,
   "metadata": {},
   "outputs": [
    {
     "data": {
      "text/html": [
       "<div>\n",
       "<style scoped>\n",
       "    .dataframe tbody tr th:only-of-type {\n",
       "        vertical-align: middle;\n",
       "    }\n",
       "\n",
       "    .dataframe tbody tr th {\n",
       "        vertical-align: top;\n",
       "    }\n",
       "\n",
       "    .dataframe thead th {\n",
       "        text-align: right;\n",
       "    }\n",
       "</style>\n",
       "<table border=\"1\" class=\"dataframe\">\n",
       "  <thead>\n",
       "    <tr style=\"text-align: right;\">\n",
       "      <th></th>\n",
       "      <th>Loan_ID</th>\n",
       "      <th>Gender</th>\n",
       "      <th>Dependents</th>\n",
       "      <th>Education</th>\n",
       "      <th>Self_Employed</th>\n",
       "      <th>ApplicantIncome</th>\n",
       "      <th>LoanAmount</th>\n",
       "      <th>Loan_Amount_Term</th>\n",
       "      <th>Property_Area</th>\n",
       "      <th>Credit_history</th>\n",
       "      <th>Loan_Status</th>\n",
       "    </tr>\n",
       "  </thead>\n",
       "  <tbody>\n",
       "    <tr>\n",
       "      <th>0</th>\n",
       "      <td>LP001032</td>\n",
       "      <td>Male</td>\n",
       "      <td>0</td>\n",
       "      <td>Graduate</td>\n",
       "      <td>No</td>\n",
       "      <td>4950</td>\n",
       "      <td>125</td>\n",
       "      <td>360</td>\n",
       "      <td>Urban</td>\n",
       "      <td>1</td>\n",
       "      <td>No</td>\n",
       "    </tr>\n",
       "    <tr>\n",
       "      <th>1</th>\n",
       "      <td>LP001824</td>\n",
       "      <td>Male</td>\n",
       "      <td>1</td>\n",
       "      <td>Graduate</td>\n",
       "      <td>No</td>\n",
       "      <td>2882</td>\n",
       "      <td>123</td>\n",
       "      <td>480</td>\n",
       "      <td>Semiurban</td>\n",
       "      <td>1</td>\n",
       "      <td>Yes</td>\n",
       "    </tr>\n",
       "    <tr>\n",
       "      <th>2</th>\n",
       "      <td>LP002928</td>\n",
       "      <td>Male</td>\n",
       "      <td>0</td>\n",
       "      <td>Graduate</td>\n",
       "      <td>No</td>\n",
       "      <td>3000</td>\n",
       "      <td>56</td>\n",
       "      <td>180</td>\n",
       "      <td>Semiurban</td>\n",
       "      <td>1</td>\n",
       "      <td>Yes</td>\n",
       "    </tr>\n",
       "    <tr>\n",
       "      <th>3</th>\n",
       "      <td>LP001814</td>\n",
       "      <td>Male</td>\n",
       "      <td>2</td>\n",
       "      <td>Graduate</td>\n",
       "      <td>No</td>\n",
       "      <td>9703</td>\n",
       "      <td>112</td>\n",
       "      <td>360</td>\n",
       "      <td>Urban</td>\n",
       "      <td>1</td>\n",
       "      <td>Yes</td>\n",
       "    </tr>\n",
       "    <tr>\n",
       "      <th>4</th>\n",
       "      <td>LP002244</td>\n",
       "      <td>Male</td>\n",
       "      <td>0</td>\n",
       "      <td>Graduate</td>\n",
       "      <td>No</td>\n",
       "      <td>2333</td>\n",
       "      <td>136</td>\n",
       "      <td>360</td>\n",
       "      <td>Urban</td>\n",
       "      <td>1</td>\n",
       "      <td>Yes</td>\n",
       "    </tr>\n",
       "  </tbody>\n",
       "</table>\n",
       "</div>"
      ],
      "text/plain": [
       "    Loan_ID Gender Dependents Education Self_Employed  ApplicantIncome  \\\n",
       "0  LP001032   Male          0  Graduate            No             4950   \n",
       "1  LP001824   Male          1  Graduate            No             2882   \n",
       "2  LP002928   Male          0  Graduate            No             3000   \n",
       "3  LP001814   Male          2  Graduate            No             9703   \n",
       "4  LP002244   Male          0  Graduate            No             2333   \n",
       "\n",
       "   LoanAmount  Loan_Amount_Term Property_Area  Credit_history Loan_Status  \n",
       "0         125               360         Urban               1          No  \n",
       "1         123               480     Semiurban               1         Yes  \n",
       "2          56               180     Semiurban               1         Yes  \n",
       "3         112               360         Urban               1         Yes  \n",
       "4         136               360         Urban               1         Yes  "
      ]
     },
     "execution_count": 4,
     "metadata": {},
     "output_type": "execute_result"
    }
   ],
   "source": [
    "data.head()"
   ]
  },
  {
   "cell_type": "code",
   "execution_count": 5,
   "metadata": {},
   "outputs": [],
   "source": [
    "data.drop([\"Loan_ID\"],axis = 1,inplace = True)"
   ]
  },
  {
   "cell_type": "code",
   "execution_count": 6,
   "metadata": {},
   "outputs": [
    {
     "data": {
      "text/plain": [
       "Gender              0\n",
       "Dependents          0\n",
       "Education           0\n",
       "Self_Employed       0\n",
       "ApplicantIncome     0\n",
       "LoanAmount          0\n",
       "Loan_Amount_Term    0\n",
       "Property_Area       0\n",
       "Credit_history      0\n",
       "Loan_Status         0\n",
       "dtype: int64"
      ]
     },
     "execution_count": 6,
     "metadata": {},
     "output_type": "execute_result"
    }
   ],
   "source": [
    "#Vérifier s'il y'a des colonnes qui comportent les null values\n",
    "data.apply(lambda x: sum(x.isnull()),axis=0)"
   ]
  },
  {
   "cell_type": "code",
   "execution_count": 7,
   "metadata": {},
   "outputs": [
    {
     "data": {
      "text/plain": [
       "0     225\n",
       "2      69\n",
       "1      61\n",
       "3+     29\n",
       "Name: Dependents, dtype: int64"
      ]
     },
     "execution_count": 7,
     "metadata": {},
     "output_type": "execute_result"
    }
   ],
   "source": [
    "data['Dependents'].value_counts()"
   ]
  },
  {
   "cell_type": "code",
   "execution_count": 8,
   "metadata": {},
   "outputs": [],
   "source": [
    "data[\"Dependents\"].replace(\"3+\",3,inplace = True)"
   ]
  },
  {
   "cell_type": "code",
   "execution_count": 9,
   "metadata": {},
   "outputs": [],
   "source": [
    "data['Dependents'] = data['Dependents'].astype(str).astype(int)"
   ]
  },
  {
   "cell_type": "code",
   "execution_count": 10,
   "metadata": {},
   "outputs": [],
   "source": [
    "data['LoanAmount'] = (data['LoanAmount']*1000)"
   ]
  },
  {
   "cell_type": "code",
   "execution_count": 11,
   "metadata": {},
   "outputs": [
    {
     "name": "stdout",
     "output_type": "stream",
     "text": [
      "<class 'pandas.core.frame.DataFrame'>\n",
      "RangeIndex: 384 entries, 0 to 383\n",
      "Data columns (total 10 columns):\n",
      " #   Column            Non-Null Count  Dtype \n",
      "---  ------            --------------  ----- \n",
      " 0   Gender            384 non-null    object\n",
      " 1   Dependents        384 non-null    int32 \n",
      " 2   Education         384 non-null    object\n",
      " 3   Self_Employed     384 non-null    object\n",
      " 4   ApplicantIncome   384 non-null    int64 \n",
      " 5   LoanAmount        384 non-null    int64 \n",
      " 6   Loan_Amount_Term  384 non-null    int64 \n",
      " 7   Property_Area     384 non-null    object\n",
      " 8   Credit_history    384 non-null    int64 \n",
      " 9   Loan_Status       384 non-null    object\n",
      "dtypes: int32(1), int64(4), object(5)\n",
      "memory usage: 28.6+ KB\n"
     ]
    }
   ],
   "source": [
    "data.info()"
   ]
  },
  {
   "cell_type": "code",
   "execution_count": 12,
   "metadata": {},
   "outputs": [
    {
     "data": {
      "text/plain": [
       "Counter({'No': 134, 'Yes': 250})"
      ]
     },
     "execution_count": 12,
     "metadata": {},
     "output_type": "execute_result"
    }
   ],
   "source": [
    "Counter(data['Loan_Status'])"
   ]
  },
  {
   "cell_type": "code",
   "execution_count": 13,
   "metadata": {},
   "outputs": [
    {
     "data": {
      "text/plain": [
       "0.6510416666666666"
      ]
     },
     "execution_count": 13,
     "metadata": {},
     "output_type": "execute_result"
    }
   ],
   "source": [
    "Counter(data['Loan_Status'])['Yes']/data['Loan_Status'].size"
   ]
  },
  {
   "cell_type": "code",
   "execution_count": 14,
   "metadata": {},
   "outputs": [],
   "source": [
    "pre_y=data['Loan_Status']\n",
    "pre_X = data.drop('Loan_Status', axis=1)\n",
    "dm_X = pd.get_dummies(pre_X)\n",
    "dm_y = pre_y.map(dict(Yes=1, No=0))"
   ]
  },
  {
   "cell_type": "code",
   "execution_count": 15,
   "metadata": {},
   "outputs": [],
   "source": [
    "smote = SMOTE()\n",
    "X1,y = smote.fit_sample(dm_X,dm_y)\n",
    "sc = MinMaxScaler()\n",
    "X = sc.fit_transform(X1)"
   ]
  },
  {
   "cell_type": "code",
   "execution_count": 16,
   "metadata": {},
   "outputs": [
    {
     "data": {
      "text/html": [
       "<div>\n",
       "<style scoped>\n",
       "    .dataframe tbody tr th:only-of-type {\n",
       "        vertical-align: middle;\n",
       "    }\n",
       "\n",
       "    .dataframe tbody tr th {\n",
       "        vertical-align: top;\n",
       "    }\n",
       "\n",
       "    .dataframe thead th {\n",
       "        text-align: right;\n",
       "    }\n",
       "</style>\n",
       "<table border=\"1\" class=\"dataframe\">\n",
       "  <thead>\n",
       "    <tr style=\"text-align: right;\">\n",
       "      <th></th>\n",
       "      <th>Dependents</th>\n",
       "      <th>ApplicantIncome</th>\n",
       "      <th>LoanAmount</th>\n",
       "      <th>Loan_Amount_Term</th>\n",
       "      <th>Credit_history</th>\n",
       "      <th>Gender_Female</th>\n",
       "      <th>Gender_Male</th>\n",
       "      <th>Education_Graduate</th>\n",
       "      <th>Education_Not Graduate</th>\n",
       "      <th>Self_Employed_No</th>\n",
       "      <th>Self_Employed_Yes</th>\n",
       "      <th>Property_Area_Rural</th>\n",
       "      <th>Property_Area_Semiurban</th>\n",
       "      <th>Property_Area_Urban</th>\n",
       "    </tr>\n",
       "  </thead>\n",
       "  <tbody>\n",
       "    <tr>\n",
       "      <th>0</th>\n",
       "      <td>0</td>\n",
       "      <td>4950</td>\n",
       "      <td>125000</td>\n",
       "      <td>360</td>\n",
       "      <td>1</td>\n",
       "      <td>0</td>\n",
       "      <td>1</td>\n",
       "      <td>1</td>\n",
       "      <td>0</td>\n",
       "      <td>1</td>\n",
       "      <td>0</td>\n",
       "      <td>0</td>\n",
       "      <td>0</td>\n",
       "      <td>1</td>\n",
       "    </tr>\n",
       "    <tr>\n",
       "      <th>1</th>\n",
       "      <td>1</td>\n",
       "      <td>2882</td>\n",
       "      <td>123000</td>\n",
       "      <td>480</td>\n",
       "      <td>1</td>\n",
       "      <td>0</td>\n",
       "      <td>1</td>\n",
       "      <td>1</td>\n",
       "      <td>0</td>\n",
       "      <td>1</td>\n",
       "      <td>0</td>\n",
       "      <td>0</td>\n",
       "      <td>1</td>\n",
       "      <td>0</td>\n",
       "    </tr>\n",
       "    <tr>\n",
       "      <th>2</th>\n",
       "      <td>0</td>\n",
       "      <td>3000</td>\n",
       "      <td>56000</td>\n",
       "      <td>180</td>\n",
       "      <td>1</td>\n",
       "      <td>0</td>\n",
       "      <td>1</td>\n",
       "      <td>1</td>\n",
       "      <td>0</td>\n",
       "      <td>1</td>\n",
       "      <td>0</td>\n",
       "      <td>0</td>\n",
       "      <td>1</td>\n",
       "      <td>0</td>\n",
       "    </tr>\n",
       "    <tr>\n",
       "      <th>3</th>\n",
       "      <td>2</td>\n",
       "      <td>9703</td>\n",
       "      <td>112000</td>\n",
       "      <td>360</td>\n",
       "      <td>1</td>\n",
       "      <td>0</td>\n",
       "      <td>1</td>\n",
       "      <td>1</td>\n",
       "      <td>0</td>\n",
       "      <td>1</td>\n",
       "      <td>0</td>\n",
       "      <td>0</td>\n",
       "      <td>0</td>\n",
       "      <td>1</td>\n",
       "    </tr>\n",
       "    <tr>\n",
       "      <th>4</th>\n",
       "      <td>0</td>\n",
       "      <td>2333</td>\n",
       "      <td>136000</td>\n",
       "      <td>360</td>\n",
       "      <td>1</td>\n",
       "      <td>0</td>\n",
       "      <td>1</td>\n",
       "      <td>1</td>\n",
       "      <td>0</td>\n",
       "      <td>1</td>\n",
       "      <td>0</td>\n",
       "      <td>0</td>\n",
       "      <td>0</td>\n",
       "      <td>1</td>\n",
       "    </tr>\n",
       "  </tbody>\n",
       "</table>\n",
       "</div>"
      ],
      "text/plain": [
       "   Dependents  ApplicantIncome  LoanAmount  Loan_Amount_Term  Credit_history  \\\n",
       "0           0             4950      125000               360               1   \n",
       "1           1             2882      123000               480               1   \n",
       "2           0             3000       56000               180               1   \n",
       "3           2             9703      112000               360               1   \n",
       "4           0             2333      136000               360               1   \n",
       "\n",
       "   Gender_Female  Gender_Male  Education_Graduate  Education_Not Graduate  \\\n",
       "0              0            1                   1                       0   \n",
       "1              0            1                   1                       0   \n",
       "2              0            1                   1                       0   \n",
       "3              0            1                   1                       0   \n",
       "4              0            1                   1                       0   \n",
       "\n",
       "   Self_Employed_No  Self_Employed_Yes  Property_Area_Rural  \\\n",
       "0                 1                  0                    0   \n",
       "1                 1                  0                    0   \n",
       "2                 1                  0                    0   \n",
       "3                 1                  0                    0   \n",
       "4                 1                  0                    0   \n",
       "\n",
       "   Property_Area_Semiurban  Property_Area_Urban  \n",
       "0                        0                    1  \n",
       "1                        1                    0  \n",
       "2                        1                    0  \n",
       "3                        0                    1  \n",
       "4                        0                    1  "
      ]
     },
     "execution_count": 16,
     "metadata": {},
     "output_type": "execute_result"
    }
   ],
   "source": [
    "dm_X.head()"
   ]
  },
  {
   "cell_type": "code",
   "execution_count": 17,
   "metadata": {},
   "outputs": [],
   "source": [
    "X_train, X_test, y_train, y_test = train_test_split(X,y, test_size = 0.3, random_state = 0)"
   ]
  },
  {
   "cell_type": "code",
   "execution_count": 18,
   "metadata": {},
   "outputs": [
    {
     "data": {
      "text/html": [
       "<div>\n",
       "<style scoped>\n",
       "    .dataframe tbody tr th:only-of-type {\n",
       "        vertical-align: middle;\n",
       "    }\n",
       "\n",
       "    .dataframe tbody tr th {\n",
       "        vertical-align: top;\n",
       "    }\n",
       "\n",
       "    .dataframe thead th {\n",
       "        text-align: right;\n",
       "    }\n",
       "</style>\n",
       "<table border=\"1\" class=\"dataframe\">\n",
       "  <thead>\n",
       "    <tr style=\"text-align: right;\">\n",
       "      <th></th>\n",
       "      <th>Dependents</th>\n",
       "      <th>ApplicantIncome</th>\n",
       "      <th>LoanAmount</th>\n",
       "      <th>Loan_Amount_Term</th>\n",
       "      <th>Credit_history</th>\n",
       "      <th>Gender_Female</th>\n",
       "      <th>Gender_Male</th>\n",
       "      <th>Education_Graduate</th>\n",
       "      <th>Education_Not Graduate</th>\n",
       "      <th>Self_Employed_No</th>\n",
       "      <th>Self_Employed_Yes</th>\n",
       "      <th>Property_Area_Rural</th>\n",
       "      <th>Property_Area_Semiurban</th>\n",
       "      <th>Property_Area_Urban</th>\n",
       "    </tr>\n",
       "  </thead>\n",
       "  <tbody>\n",
       "    <tr>\n",
       "      <th>Dependents</th>\n",
       "      <td>1.000000</td>\n",
       "      <td>0.146205</td>\n",
       "      <td>0.137698</td>\n",
       "      <td>-0.059406</td>\n",
       "      <td>-0.006006</td>\n",
       "      <td>-0.201296</td>\n",
       "      <td>0.201296</td>\n",
       "      <td>-0.002125</td>\n",
       "      <td>0.002125</td>\n",
       "      <td>-0.056441</td>\n",
       "      <td>0.056441</td>\n",
       "      <td>-0.035378</td>\n",
       "      <td>-0.020774</td>\n",
       "      <td>0.055929</td>\n",
       "    </tr>\n",
       "    <tr>\n",
       "      <th>ApplicantIncome</th>\n",
       "      <td>0.146205</td>\n",
       "      <td>1.000000</td>\n",
       "      <td>0.393259</td>\n",
       "      <td>-0.029400</td>\n",
       "      <td>-0.007762</td>\n",
       "      <td>-0.012581</td>\n",
       "      <td>0.012581</td>\n",
       "      <td>0.134489</td>\n",
       "      <td>-0.134489</td>\n",
       "      <td>-0.196924</td>\n",
       "      <td>0.196924</td>\n",
       "      <td>0.064010</td>\n",
       "      <td>-0.014231</td>\n",
       "      <td>-0.047511</td>\n",
       "    </tr>\n",
       "    <tr>\n",
       "      <th>LoanAmount</th>\n",
       "      <td>0.137698</td>\n",
       "      <td>0.393259</td>\n",
       "      <td>1.000000</td>\n",
       "      <td>0.031153</td>\n",
       "      <td>-0.020864</td>\n",
       "      <td>-0.097044</td>\n",
       "      <td>0.097044</td>\n",
       "      <td>0.132573</td>\n",
       "      <td>-0.132573</td>\n",
       "      <td>-0.148892</td>\n",
       "      <td>0.148892</td>\n",
       "      <td>0.064365</td>\n",
       "      <td>-0.000119</td>\n",
       "      <td>-0.062476</td>\n",
       "    </tr>\n",
       "    <tr>\n",
       "      <th>Loan_Amount_Term</th>\n",
       "      <td>-0.059406</td>\n",
       "      <td>-0.029400</td>\n",
       "      <td>0.031153</td>\n",
       "      <td>1.000000</td>\n",
       "      <td>0.015492</td>\n",
       "      <td>0.094112</td>\n",
       "      <td>-0.094112</td>\n",
       "      <td>0.072307</td>\n",
       "      <td>-0.072307</td>\n",
       "      <td>0.091022</td>\n",
       "      <td>-0.091022</td>\n",
       "      <td>-0.001534</td>\n",
       "      <td>-0.003145</td>\n",
       "      <td>0.004751</td>\n",
       "    </tr>\n",
       "    <tr>\n",
       "      <th>Credit_history</th>\n",
       "      <td>-0.006006</td>\n",
       "      <td>-0.007762</td>\n",
       "      <td>-0.020864</td>\n",
       "      <td>0.015492</td>\n",
       "      <td>1.000000</td>\n",
       "      <td>-0.010776</td>\n",
       "      <td>0.010776</td>\n",
       "      <td>0.039454</td>\n",
       "      <td>-0.039454</td>\n",
       "      <td>0.048449</td>\n",
       "      <td>-0.048449</td>\n",
       "      <td>-0.078548</td>\n",
       "      <td>0.105842</td>\n",
       "      <td>-0.033259</td>\n",
       "    </tr>\n",
       "    <tr>\n",
       "      <th>Gender_Female</th>\n",
       "      <td>-0.201296</td>\n",
       "      <td>-0.012581</td>\n",
       "      <td>-0.097044</td>\n",
       "      <td>0.094112</td>\n",
       "      <td>-0.010776</td>\n",
       "      <td>1.000000</td>\n",
       "      <td>-1.000000</td>\n",
       "      <td>0.087706</td>\n",
       "      <td>-0.087706</td>\n",
       "      <td>-0.014272</td>\n",
       "      <td>0.014272</td>\n",
       "      <td>-0.036684</td>\n",
       "      <td>0.083983</td>\n",
       "      <td>-0.051329</td>\n",
       "    </tr>\n",
       "    <tr>\n",
       "      <th>Gender_Male</th>\n",
       "      <td>0.201296</td>\n",
       "      <td>0.012581</td>\n",
       "      <td>0.097044</td>\n",
       "      <td>-0.094112</td>\n",
       "      <td>0.010776</td>\n",
       "      <td>-1.000000</td>\n",
       "      <td>1.000000</td>\n",
       "      <td>-0.087706</td>\n",
       "      <td>0.087706</td>\n",
       "      <td>0.014272</td>\n",
       "      <td>-0.014272</td>\n",
       "      <td>0.036684</td>\n",
       "      <td>-0.083983</td>\n",
       "      <td>0.051329</td>\n",
       "    </tr>\n",
       "    <tr>\n",
       "      <th>Education_Graduate</th>\n",
       "      <td>-0.002125</td>\n",
       "      <td>0.134489</td>\n",
       "      <td>0.132573</td>\n",
       "      <td>0.072307</td>\n",
       "      <td>0.039454</td>\n",
       "      <td>0.087706</td>\n",
       "      <td>-0.087706</td>\n",
       "      <td>1.000000</td>\n",
       "      <td>-1.000000</td>\n",
       "      <td>-0.012926</td>\n",
       "      <td>0.012926</td>\n",
       "      <td>-0.080826</td>\n",
       "      <td>0.038990</td>\n",
       "      <td>0.038215</td>\n",
       "    </tr>\n",
       "    <tr>\n",
       "      <th>Education_Not Graduate</th>\n",
       "      <td>0.002125</td>\n",
       "      <td>-0.134489</td>\n",
       "      <td>-0.132573</td>\n",
       "      <td>-0.072307</td>\n",
       "      <td>-0.039454</td>\n",
       "      <td>-0.087706</td>\n",
       "      <td>0.087706</td>\n",
       "      <td>-1.000000</td>\n",
       "      <td>1.000000</td>\n",
       "      <td>0.012926</td>\n",
       "      <td>-0.012926</td>\n",
       "      <td>0.080826</td>\n",
       "      <td>-0.038990</td>\n",
       "      <td>-0.038215</td>\n",
       "    </tr>\n",
       "    <tr>\n",
       "      <th>Self_Employed_No</th>\n",
       "      <td>-0.056441</td>\n",
       "      <td>-0.196924</td>\n",
       "      <td>-0.148892</td>\n",
       "      <td>0.091022</td>\n",
       "      <td>0.048449</td>\n",
       "      <td>-0.014272</td>\n",
       "      <td>0.014272</td>\n",
       "      <td>-0.012926</td>\n",
       "      <td>0.012926</td>\n",
       "      <td>1.000000</td>\n",
       "      <td>-1.000000</td>\n",
       "      <td>-0.051112</td>\n",
       "      <td>0.039061</td>\n",
       "      <td>0.009243</td>\n",
       "    </tr>\n",
       "    <tr>\n",
       "      <th>Self_Employed_Yes</th>\n",
       "      <td>0.056441</td>\n",
       "      <td>0.196924</td>\n",
       "      <td>0.148892</td>\n",
       "      <td>-0.091022</td>\n",
       "      <td>-0.048449</td>\n",
       "      <td>0.014272</td>\n",
       "      <td>-0.014272</td>\n",
       "      <td>0.012926</td>\n",
       "      <td>-0.012926</td>\n",
       "      <td>-1.000000</td>\n",
       "      <td>1.000000</td>\n",
       "      <td>0.051112</td>\n",
       "      <td>-0.039061</td>\n",
       "      <td>-0.009243</td>\n",
       "    </tr>\n",
       "    <tr>\n",
       "      <th>Property_Area_Rural</th>\n",
       "      <td>-0.035378</td>\n",
       "      <td>0.064010</td>\n",
       "      <td>0.064365</td>\n",
       "      <td>-0.001534</td>\n",
       "      <td>-0.078548</td>\n",
       "      <td>-0.036684</td>\n",
       "      <td>0.036684</td>\n",
       "      <td>-0.080826</td>\n",
       "      <td>0.080826</td>\n",
       "      <td>-0.051112</td>\n",
       "      <td>0.051112</td>\n",
       "      <td>1.000000</td>\n",
       "      <td>-0.505758</td>\n",
       "      <td>-0.448600</td>\n",
       "    </tr>\n",
       "    <tr>\n",
       "      <th>Property_Area_Semiurban</th>\n",
       "      <td>-0.020774</td>\n",
       "      <td>-0.014231</td>\n",
       "      <td>-0.000119</td>\n",
       "      <td>-0.003145</td>\n",
       "      <td>0.105842</td>\n",
       "      <td>0.083983</td>\n",
       "      <td>-0.083983</td>\n",
       "      <td>0.038990</td>\n",
       "      <td>-0.038990</td>\n",
       "      <td>0.039061</td>\n",
       "      <td>-0.039061</td>\n",
       "      <td>-0.505758</td>\n",
       "      <td>1.000000</td>\n",
       "      <td>-0.544118</td>\n",
       "    </tr>\n",
       "    <tr>\n",
       "      <th>Property_Area_Urban</th>\n",
       "      <td>0.055929</td>\n",
       "      <td>-0.047511</td>\n",
       "      <td>-0.062476</td>\n",
       "      <td>0.004751</td>\n",
       "      <td>-0.033259</td>\n",
       "      <td>-0.051329</td>\n",
       "      <td>0.051329</td>\n",
       "      <td>0.038215</td>\n",
       "      <td>-0.038215</td>\n",
       "      <td>0.009243</td>\n",
       "      <td>-0.009243</td>\n",
       "      <td>-0.448600</td>\n",
       "      <td>-0.544118</td>\n",
       "      <td>1.000000</td>\n",
       "    </tr>\n",
       "  </tbody>\n",
       "</table>\n",
       "</div>"
      ],
      "text/plain": [
       "                         Dependents  ApplicantIncome  LoanAmount  \\\n",
       "Dependents                 1.000000         0.146205    0.137698   \n",
       "ApplicantIncome            0.146205         1.000000    0.393259   \n",
       "LoanAmount                 0.137698         0.393259    1.000000   \n",
       "Loan_Amount_Term          -0.059406        -0.029400    0.031153   \n",
       "Credit_history            -0.006006        -0.007762   -0.020864   \n",
       "Gender_Female             -0.201296        -0.012581   -0.097044   \n",
       "Gender_Male                0.201296         0.012581    0.097044   \n",
       "Education_Graduate        -0.002125         0.134489    0.132573   \n",
       "Education_Not Graduate     0.002125        -0.134489   -0.132573   \n",
       "Self_Employed_No          -0.056441        -0.196924   -0.148892   \n",
       "Self_Employed_Yes          0.056441         0.196924    0.148892   \n",
       "Property_Area_Rural       -0.035378         0.064010    0.064365   \n",
       "Property_Area_Semiurban   -0.020774        -0.014231   -0.000119   \n",
       "Property_Area_Urban        0.055929        -0.047511   -0.062476   \n",
       "\n",
       "                         Loan_Amount_Term  Credit_history  Gender_Female  \\\n",
       "Dependents                      -0.059406       -0.006006      -0.201296   \n",
       "ApplicantIncome                 -0.029400       -0.007762      -0.012581   \n",
       "LoanAmount                       0.031153       -0.020864      -0.097044   \n",
       "Loan_Amount_Term                 1.000000        0.015492       0.094112   \n",
       "Credit_history                   0.015492        1.000000      -0.010776   \n",
       "Gender_Female                    0.094112       -0.010776       1.000000   \n",
       "Gender_Male                     -0.094112        0.010776      -1.000000   \n",
       "Education_Graduate               0.072307        0.039454       0.087706   \n",
       "Education_Not Graduate          -0.072307       -0.039454      -0.087706   \n",
       "Self_Employed_No                 0.091022        0.048449      -0.014272   \n",
       "Self_Employed_Yes               -0.091022       -0.048449       0.014272   \n",
       "Property_Area_Rural             -0.001534       -0.078548      -0.036684   \n",
       "Property_Area_Semiurban         -0.003145        0.105842       0.083983   \n",
       "Property_Area_Urban              0.004751       -0.033259      -0.051329   \n",
       "\n",
       "                         Gender_Male  Education_Graduate  \\\n",
       "Dependents                  0.201296           -0.002125   \n",
       "ApplicantIncome             0.012581            0.134489   \n",
       "LoanAmount                  0.097044            0.132573   \n",
       "Loan_Amount_Term           -0.094112            0.072307   \n",
       "Credit_history              0.010776            0.039454   \n",
       "Gender_Female              -1.000000            0.087706   \n",
       "Gender_Male                 1.000000           -0.087706   \n",
       "Education_Graduate         -0.087706            1.000000   \n",
       "Education_Not Graduate      0.087706           -1.000000   \n",
       "Self_Employed_No            0.014272           -0.012926   \n",
       "Self_Employed_Yes          -0.014272            0.012926   \n",
       "Property_Area_Rural         0.036684           -0.080826   \n",
       "Property_Area_Semiurban    -0.083983            0.038990   \n",
       "Property_Area_Urban         0.051329            0.038215   \n",
       "\n",
       "                         Education_Not Graduate  Self_Employed_No  \\\n",
       "Dependents                             0.002125         -0.056441   \n",
       "ApplicantIncome                       -0.134489         -0.196924   \n",
       "LoanAmount                            -0.132573         -0.148892   \n",
       "Loan_Amount_Term                      -0.072307          0.091022   \n",
       "Credit_history                        -0.039454          0.048449   \n",
       "Gender_Female                         -0.087706         -0.014272   \n",
       "Gender_Male                            0.087706          0.014272   \n",
       "Education_Graduate                    -1.000000         -0.012926   \n",
       "Education_Not Graduate                 1.000000          0.012926   \n",
       "Self_Employed_No                       0.012926          1.000000   \n",
       "Self_Employed_Yes                     -0.012926         -1.000000   \n",
       "Property_Area_Rural                    0.080826         -0.051112   \n",
       "Property_Area_Semiurban               -0.038990          0.039061   \n",
       "Property_Area_Urban                   -0.038215          0.009243   \n",
       "\n",
       "                         Self_Employed_Yes  Property_Area_Rural  \\\n",
       "Dependents                        0.056441            -0.035378   \n",
       "ApplicantIncome                   0.196924             0.064010   \n",
       "LoanAmount                        0.148892             0.064365   \n",
       "Loan_Amount_Term                 -0.091022            -0.001534   \n",
       "Credit_history                   -0.048449            -0.078548   \n",
       "Gender_Female                     0.014272            -0.036684   \n",
       "Gender_Male                      -0.014272             0.036684   \n",
       "Education_Graduate                0.012926            -0.080826   \n",
       "Education_Not Graduate           -0.012926             0.080826   \n",
       "Self_Employed_No                 -1.000000            -0.051112   \n",
       "Self_Employed_Yes                 1.000000             0.051112   \n",
       "Property_Area_Rural               0.051112             1.000000   \n",
       "Property_Area_Semiurban          -0.039061            -0.505758   \n",
       "Property_Area_Urban              -0.009243            -0.448600   \n",
       "\n",
       "                         Property_Area_Semiurban  Property_Area_Urban  \n",
       "Dependents                             -0.020774             0.055929  \n",
       "ApplicantIncome                        -0.014231            -0.047511  \n",
       "LoanAmount                             -0.000119            -0.062476  \n",
       "Loan_Amount_Term                       -0.003145             0.004751  \n",
       "Credit_history                          0.105842            -0.033259  \n",
       "Gender_Female                           0.083983            -0.051329  \n",
       "Gender_Male                            -0.083983             0.051329  \n",
       "Education_Graduate                      0.038990             0.038215  \n",
       "Education_Not Graduate                 -0.038990            -0.038215  \n",
       "Self_Employed_No                        0.039061             0.009243  \n",
       "Self_Employed_Yes                      -0.039061            -0.009243  \n",
       "Property_Area_Rural                    -0.505758            -0.448600  \n",
       "Property_Area_Semiurban                 1.000000            -0.544118  \n",
       "Property_Area_Urban                    -0.544118             1.000000  "
      ]
     },
     "execution_count": 18,
     "metadata": {},
     "output_type": "execute_result"
    }
   ],
   "source": [
    "dm_X.corr(method='kendall')"
   ]
  },
  {
   "cell_type": "code",
   "execution_count": 19,
   "metadata": {},
   "outputs": [
    {
     "data": {
      "text/plain": [
       "<matplotlib.axes._subplots.AxesSubplot at 0x2f525e1aa88>"
      ]
     },
     "execution_count": 19,
     "metadata": {},
     "output_type": "execute_result"
    },
    {
     "data": {
      "image/png": "[encoded data removed]",
      "text/plain": [
       "<Figure size 360x360 with 2 Axes>"
      ]
     },
     "metadata": {
      "needs_background": "light"
     },
     "output_type": "display_data"
    }
   ],
   "source": [
    "import matplotlib.pyplot as plt\n",
    "import seaborn as sns\n",
    "%matplotlib inline \n",
    "corrmat=dm_X.corr()\n",
    "f,ax=plt.subplots(figsize=(5,5))\n",
    "sns.heatmap(corrmat,vmax=.8,square=True)"
   ]
  },
  {
   "cell_type": "code",
   "execution_count": 20,
   "metadata": {},
   "outputs": [
    {
     "data": {
      "text/plain": [
       "DecisionTreeClassifier(random_state=0)"
      ]
     },
     "execution_count": 20,
     "metadata": {},
     "output_type": "execute_result"
    }
   ],
   "source": [
    "from sklearn.tree import DecisionTreeClassifier\n",
    "arbre= DecisionTreeClassifier(random_state = 0) #gini par défaut\n",
    "arbre.fit(X_train, y_train)"
   ]
  },
  {
   "cell_type": "code",
   "execution_count": 21,
   "metadata": {},
   "outputs": [],
   "source": [
    "y_pred = arbre.predict(X_test)"
   ]
  },
  {
   "cell_type": "code",
   "execution_count": 22,
   "metadata": {},
   "outputs": [
    {
     "name": "stdout",
     "output_type": "stream",
     "text": [
      "The accuracy of Decision Tree is:  0.7666666666666667\n"
     ]
    }
   ],
   "source": [
    "print('The accuracy of Decision Tree is: ', metrics.accuracy_score(y_pred, y_test))"
   ]
  },
  {
   "cell_type": "code",
   "execution_count": 23,
   "metadata": {},
   "outputs": [
    {
     "name": "stdout",
     "output_type": "stream",
     "text": [
      "[[54 21]\n",
      " [14 61]]\n",
      "              precision    recall  f1-score   support\n",
      "\n",
      "           0       0.72      0.79      0.76        68\n",
      "           1       0.81      0.74      0.78        82\n",
      "\n",
      "    accuracy                           0.77       150\n",
      "   macro avg       0.77      0.77      0.77       150\n",
      "weighted avg       0.77      0.77      0.77       150\n",
      "\n"
     ]
    }
   ],
   "source": [
    "print(confusion_matrix(y_test, y_pred))\n",
    "print(classification_report(y_pred,y_test,zero_division=1))"
   ]
  },
  {
   "cell_type": "code",
   "execution_count": 24,
   "metadata": {},
   "outputs": [
    {
     "data": {
      "text/html": [
       "<div>\n",
       "<style scoped>\n",
       "    .dataframe tbody tr th:only-of-type {\n",
       "        vertical-align: middle;\n",
       "    }\n",
       "\n",
       "    .dataframe tbody tr th {\n",
       "        vertical-align: top;\n",
       "    }\n",
       "\n",
       "    .dataframe thead th {\n",
       "        text-align: right;\n",
       "    }\n",
       "</style>\n",
       "<table border=\"1\" class=\"dataframe\">\n",
       "  <thead>\n",
       "    <tr style=\"text-align: right;\">\n",
       "      <th></th>\n",
       "      <th>Dependents</th>\n",
       "      <th>ApplicantIncome</th>\n",
       "      <th>LoanAmount</th>\n",
       "      <th>Loan_Amount_Term</th>\n",
       "      <th>Credit_history</th>\n",
       "      <th>Gender_Female</th>\n",
       "      <th>Gender_Male</th>\n",
       "      <th>Education_Graduate</th>\n",
       "      <th>Education_Not Graduate</th>\n",
       "      <th>Self_Employed_No</th>\n",
       "      <th>Self_Employed_Yes</th>\n",
       "      <th>Property_Area_Rural</th>\n",
       "      <th>Property_Area_Semiurban</th>\n",
       "      <th>Property_Area_Urban</th>\n",
       "    </tr>\n",
       "  </thead>\n",
       "  <tbody>\n",
       "    <tr>\n",
       "      <th>0</th>\n",
       "      <td>0</td>\n",
       "      <td>4950</td>\n",
       "      <td>125000</td>\n",
       "      <td>360</td>\n",
       "      <td>1</td>\n",
       "      <td>0</td>\n",
       "      <td>1</td>\n",
       "      <td>1</td>\n",
       "      <td>0</td>\n",
       "      <td>1</td>\n",
       "      <td>0</td>\n",
       "      <td>0</td>\n",
       "      <td>0</td>\n",
       "      <td>1</td>\n",
       "    </tr>\n",
       "    <tr>\n",
       "      <th>1</th>\n",
       "      <td>1</td>\n",
       "      <td>2882</td>\n",
       "      <td>123000</td>\n",
       "      <td>480</td>\n",
       "      <td>1</td>\n",
       "      <td>0</td>\n",
       "      <td>1</td>\n",
       "      <td>1</td>\n",
       "      <td>0</td>\n",
       "      <td>1</td>\n",
       "      <td>0</td>\n",
       "      <td>0</td>\n",
       "      <td>1</td>\n",
       "      <td>0</td>\n",
       "    </tr>\n",
       "    <tr>\n",
       "      <th>2</th>\n",
       "      <td>0</td>\n",
       "      <td>3000</td>\n",
       "      <td>56000</td>\n",
       "      <td>180</td>\n",
       "      <td>1</td>\n",
       "      <td>0</td>\n",
       "      <td>1</td>\n",
       "      <td>1</td>\n",
       "      <td>0</td>\n",
       "      <td>1</td>\n",
       "      <td>0</td>\n",
       "      <td>0</td>\n",
       "      <td>1</td>\n",
       "      <td>0</td>\n",
       "    </tr>\n",
       "    <tr>\n",
       "      <th>3</th>\n",
       "      <td>2</td>\n",
       "      <td>9703</td>\n",
       "      <td>112000</td>\n",
       "      <td>360</td>\n",
       "      <td>1</td>\n",
       "      <td>0</td>\n",
       "      <td>1</td>\n",
       "      <td>1</td>\n",
       "      <td>0</td>\n",
       "      <td>1</td>\n",
       "      <td>0</td>\n",
       "      <td>0</td>\n",
       "      <td>0</td>\n",
       "      <td>1</td>\n",
       "    </tr>\n",
       "    <tr>\n",
       "      <th>4</th>\n",
       "      <td>0</td>\n",
       "      <td>2333</td>\n",
       "      <td>136000</td>\n",
       "      <td>360</td>\n",
       "      <td>1</td>\n",
       "      <td>0</td>\n",
       "      <td>1</td>\n",
       "      <td>1</td>\n",
       "      <td>0</td>\n",
       "      <td>1</td>\n",
       "      <td>0</td>\n",
       "      <td>0</td>\n",
       "      <td>0</td>\n",
       "      <td>1</td>\n",
       "    </tr>\n",
       "  </tbody>\n",
       "</table>\n",
       "</div>"
      ],
      "text/plain": [
       "   Dependents  ApplicantIncome  LoanAmount  Loan_Amount_Term  Credit_history  \\\n",
       "0           0             4950      125000               360               1   \n",
       "1           1             2882      123000               480               1   \n",
       "2           0             3000       56000               180               1   \n",
       "3           2             9703      112000               360               1   \n",
       "4           0             2333      136000               360               1   \n",
       "\n",
       "   Gender_Female  Gender_Male  Education_Graduate  Education_Not Graduate  \\\n",
       "0              0            1                   1                       0   \n",
       "1              0            1                   1                       0   \n",
       "2              0            1                   1                       0   \n",
       "3              0            1                   1                       0   \n",
       "4              0            1                   1                       0   \n",
       "\n",
       "   Self_Employed_No  Self_Employed_Yes  Property_Area_Rural  \\\n",
       "0                 1                  0                    0   \n",
       "1                 1                  0                    0   \n",
       "2                 1                  0                    0   \n",
       "3                 1                  0                    0   \n",
       "4                 1                  0                    0   \n",
       "\n",
       "   Property_Area_Semiurban  Property_Area_Urban  \n",
       "0                        0                    1  \n",
       "1                        1                    0  \n",
       "2                        1                    0  \n",
       "3                        0                    1  \n",
       "4                        0                    1  "
      ]
     },
     "execution_count": 24,
     "metadata": {},
     "output_type": "execute_result"
    }
   ],
   "source": [
    "dm_X.head()"
   ]
  },
  {
   "cell_type": "code",
   "execution_count": 25,
   "metadata": {},
   "outputs": [
    {
     "data": {
      "text/plain": [
       "LogisticRegression()"
      ]
     },
     "execution_count": 25,
     "metadata": {},
     "output_type": "execute_result"
    }
   ],
   "source": [
    "#Logistic regression\n",
    "from sklearn.linear_model import LogisticRegression\n",
    "logistic = LogisticRegression()\n",
    "logistic.fit(X_train, y_train)"
   ]
  },
  {
   "cell_type": "code",
   "execution_count": 26,
   "metadata": {},
   "outputs": [],
   "source": [
    "# Predicting the Test set results\n",
    "y_pred = logistic.predict(X_test)"
   ]
  },
  {
   "cell_type": "code",
   "execution_count": 27,
   "metadata": {},
   "outputs": [
    {
     "name": "stdout",
     "output_type": "stream",
     "text": [
      "The accuracy of Logistic Regression is:  0.7933333333333333\n"
     ]
    }
   ],
   "source": [
    "print('The accuracy of Logistic Regression is: ', metrics.accuracy_score(y_pred, y_test))"
   ]
  },
  {
   "cell_type": "code",
   "execution_count": 28,
   "metadata": {},
   "outputs": [
    {
     "name": "stdout",
     "output_type": "stream",
     "text": [
      "[[54 21]\n",
      " [10 65]]\n",
      "              precision    recall  f1-score   support\n",
      "\n",
      "           0       0.72      0.84      0.78        64\n",
      "           1       0.87      0.76      0.81        86\n",
      "\n",
      "    accuracy                           0.79       150\n",
      "   macro avg       0.79      0.80      0.79       150\n",
      "weighted avg       0.80      0.79      0.79       150\n",
      "\n"
     ]
    }
   ],
   "source": [
    "print(confusion_matrix(y_test, y_pred))\n",
    "print(classification_report(y_pred,y_test,zero_division=1))"
   ]
  },
  {
   "cell_type": "code",
   "execution_count": 29,
   "metadata": {},
   "outputs": [
    {
     "data": {
      "text/plain": [
       "SVC(degree=2, kernel='poly')"
      ]
     },
     "execution_count": 29,
     "metadata": {},
     "output_type": "execute_result"
    }
   ],
   "source": [
    "# Fitting SVM to the Training set\n",
    "from sklearn.svm import SVC\n",
    "svm = SVC(kernel='poly',degree=2)\n",
    "svm.fit(X_train, y_train)"
   ]
  },
  {
   "cell_type": "code",
   "execution_count": 30,
   "metadata": {},
   "outputs": [],
   "source": [
    "y_pred = svm.predict(X_test)"
   ]
  },
  {
   "cell_type": "code",
   "execution_count": 31,
   "metadata": {},
   "outputs": [
    {
     "name": "stdout",
     "output_type": "stream",
     "text": [
      "The accuracy of SVM is:  0.7866666666666666\n"
     ]
    }
   ],
   "source": [
    "print('The accuracy of SVM is: ', metrics.accuracy_score(y_pred, y_test))"
   ]
  },
  {
   "cell_type": "code",
   "execution_count": 32,
   "metadata": {},
   "outputs": [
    {
     "name": "stdout",
     "output_type": "stream",
     "text": [
      "[[51 24]\n",
      " [ 8 67]]\n",
      "              precision    recall  f1-score   support\n",
      "\n",
      "           0       0.68      0.86      0.76        59\n",
      "           1       0.89      0.74      0.81        91\n",
      "\n",
      "    accuracy                           0.79       150\n",
      "   macro avg       0.79      0.80      0.78       150\n",
      "weighted avg       0.81      0.79      0.79       150\n",
      "\n"
     ]
    }
   ],
   "source": [
    "print(confusion_matrix(y_test, y_pred))\n",
    "print(classification_report(y_pred,y_test,zero_division=1))"
   ]
  },
  {
   "cell_type": "code",
   "execution_count": 33,
   "metadata": {},
   "outputs": [
    {
     "data": {
      "text/plain": [
       "RandomForestClassifier(random_state=0)"
      ]
     },
     "execution_count": 33,
     "metadata": {},
     "output_type": "execute_result"
    }
   ],
   "source": [
    "# Fitting Random Forest Classification to the Training set\n",
    "from sklearn.ensemble import RandomForestClassifier\n",
    "forest = RandomForestClassifier(random_state = 0)\n",
    "forest.fit(X_train, y_train)"
   ]
  },
  {
   "cell_type": "code",
   "execution_count": 34,
   "metadata": {},
   "outputs": [],
   "source": [
    "# Predicting the Test set results\n",
    "y_pred = forest.predict(X_test)"
   ]
  },
  {
   "cell_type": "code",
   "execution_count": 36,
   "metadata": {},
   "outputs": [
    {
     "name": "stdout",
     "output_type": "stream",
     "text": [
      "The accuracy of RF is:  0.8\n"
     ]
    }
   ],
   "source": [
    "print('The accuracy of RF is: ', metrics.accuracy_score(y_pred, y_test))"
   ]
  },
  {
   "cell_type": "code",
   "execution_count": 37,
   "metadata": {},
   "outputs": [
    {
     "name": "stdout",
     "output_type": "stream",
     "text": [
      "[[57 18]\n",
      " [12 63]]\n",
      "              precision    recall  f1-score   support\n",
      "\n",
      "           0       0.76      0.83      0.79        69\n",
      "           1       0.84      0.78      0.81        81\n",
      "\n",
      "    accuracy                           0.80       150\n",
      "   macro avg       0.80      0.80      0.80       150\n",
      "weighted avg       0.80      0.80      0.80       150\n",
      "\n"
     ]
    }
   ],
   "source": [
    "print(confusion_matrix(y_test, y_pred))\n",
    "print(classification_report(y_pred,y_test,zero_division=1))"
   ]
  },
  {
   "cell_type": "code",
   "execution_count": 38,
   "metadata": {},
   "outputs": [
    {
     "data": {
      "text/plain": [
       "array([0.76      , 0.73333333, 0.74666667, 0.73333333, 0.74666667,\n",
       "       0.76666667, 0.78      , 0.76      , 0.77333333, 0.76666667,\n",
       "       0.78      , 0.78      , 0.77333333, 0.75333333, 0.76666667,\n",
       "       0.78666667, 0.76      , 0.76      , 0.76      , 0.76666667,\n",
       "       0.76666667, 0.77333333, 0.76666667, 0.76666667, 0.76666667,\n",
       "       0.77333333, 0.77333333, 0.78666667, 0.78666667, 0.78      ,\n",
       "       0.78      , 0.78      , 0.78      , 0.76666667, 0.76666667,\n",
       "       0.76      , 0.76      , 0.75333333, 0.75333333, 0.74666667,\n",
       "       0.76666667, 0.77333333, 0.78      , 0.78      , 0.78      ,\n",
       "       0.78666667, 0.78666667, 0.8       , 0.79333333, 0.79333333,\n",
       "       0.79333333, 0.78666667, 0.78666667, 0.78      , 0.78      ,\n",
       "       0.77333333, 0.76666667, 0.75333333, 0.76      , 0.74666667,\n",
       "       0.75333333, 0.76666667, 0.77333333, 0.76      , 0.75333333,\n",
       "       0.75333333, 0.75333333, 0.75333333, 0.76      , 0.76666667,\n",
       "       0.76      , 0.76      , 0.74666667, 0.75333333, 0.74666667,\n",
       "       0.75333333, 0.76      , 0.76666667, 0.76      , 0.77333333,\n",
       "       0.77333333, 0.78      , 0.77333333, 0.76666667, 0.77333333,\n",
       "       0.76666667, 0.76      , 0.77333333, 0.76666667, 0.74666667,\n",
       "       0.74666667, 0.74      , 0.75333333, 0.75333333, 0.76      ,\n",
       "       0.74      , 0.76666667, 0.76666667, 0.76666667])"
      ]
     },
     "execution_count": 38,
     "metadata": {},
     "output_type": "execute_result"
    }
   ],
   "source": [
    "#KNN\n",
    "from sklearn.neighbors import KNeighborsClassifier\n",
    "cpt = 100\n",
    "mean_acc = np.zeros((cpt-1))\n",
    "std_acc = np.zeros((cpt-1))\n",
    "for n in range(1,cpt):\n",
    "    #Train Model and Predict  \n",
    "    neigh = KNeighborsClassifier(n_neighbors = n).fit(X_train,y_train)\n",
    "    yhat=neigh.predict(X_test)\n",
    "    mean_acc[n-1] = metrics.accuracy_score(y_test, yhat)\n",
    "    std_acc[n-1]=np.std(yhat==y_test)/np.sqrt(yhat.shape[0]) #Computing std deviation\n",
    "mean_acc"
   ]
  },
  {
   "cell_type": "code",
   "execution_count": 39,
   "metadata": {},
   "outputs": [
    {
     "data": {
      "image/png": "[encoded data removed]",
      "text/plain": [
       "<Figure size 432x288 with 1 Axes>"
      ]
     },
     "metadata": {
      "needs_background": "light"
     },
     "output_type": "display_data"
    }
   ],
   "source": [
    "# Plot  model accuracy  for Different number of Neighbors \n",
    "plt.plot(range(1,cpt),mean_acc,'g')\n",
    "plt.fill_between(range(1,cpt),mean_acc - 1 * std_acc,mean_acc + 1 * std_acc, alpha=0.10)\n",
    "plt.legend(('Accuracy ', '+/- 3xstd'))\n",
    "plt.ylabel('Accuracy ')\n",
    "plt.xlabel('Number of Neighbors (K)')\n",
    "plt.tight_layout()\n",
    "plt.show()"
   ]
  },
  {
   "cell_type": "code",
   "execution_count": 40,
   "metadata": {},
   "outputs": [],
   "source": [
    "neigh = KNeighborsClassifier(n_neighbors = 48).fit(X_train,y_train)"
   ]
  },
  {
   "cell_type": "code",
   "execution_count": 41,
   "metadata": {},
   "outputs": [],
   "source": [
    "# Predicting the Test set results\n",
    "y_pred = neigh.predict(X_test)"
   ]
  },
  {
   "cell_type": "code",
   "execution_count": 42,
   "metadata": {},
   "outputs": [
    {
     "name": "stdout",
     "output_type": "stream",
     "text": [
      "The accuracy of KNN is:  0.8\n"
     ]
    }
   ],
   "source": [
    "print('The accuracy of KNN is: ', metrics.accuracy_score(y_pred, y_test))"
   ]
  },
  {
   "cell_type": "code",
   "execution_count": 43,
   "metadata": {},
   "outputs": [
    {
     "name": "stdout",
     "output_type": "stream",
     "text": [
      "[[52 23]\n",
      " [ 7 68]]\n",
      "              precision    recall  f1-score   support\n",
      "\n",
      "           0       0.69      0.88      0.78        59\n",
      "           1       0.91      0.75      0.82        91\n",
      "\n",
      "    accuracy                           0.80       150\n",
      "   macro avg       0.80      0.81      0.80       150\n",
      "weighted avg       0.82      0.80      0.80       150\n",
      "\n"
     ]
    }
   ],
   "source": [
    "print(confusion_matrix(y_test, y_pred))\n",
    "print(classification_report(y_pred,y_test,zero_division=1))"
   ]
  },
  {
   "cell_type": "code",
   "execution_count": 44,
   "metadata": {},
   "outputs": [],
   "source": [
    "import pickle\n",
    "with open('knn','wb') as f:\n",
    " pickle.dump(neigh,f)"
   ]
  },
  {
   "cell_type": "code",
   "execution_count": 45,
   "metadata": {},
   "outputs": [],
   "source": [
    "with open('knn','rb') as f:\n",
    " model = pickle.load(f)"
   ]
  },
  {
   "cell_type": "code",
   "execution_count": null,
   "metadata": {},
   "outputs": [],
   "source": []
  },
  {
   "cell_type": "code",
   "execution_count": null,
   "metadata": {},
   "outputs": [],
   "source": []
  },
  {
   "cell_type": "code",
   "execution_count": null,
   "metadata": {},
   "outputs": [],
   "source": []
  },
  {
   "cell_type": "code",
   "execution_count": null,
   "metadata": {},
   "outputs": [],
   "source": []
  }
 ],
 "metadata": {
  "kernelspec": {
   "display_name": "Python 3",
   "language": "python",
   "name": "python3"
  },
  "language_info": {
   "codemirror_mode": {
    "name": "ipython",
    "version": 3
   },
   "file_extension": ".py",
   "mimetype": "text/x-python",
   "name": "python",
   "nbconvert_exporter": "python",
   "pygments_lexer": "ipython3",
   "version": "3.7.6"
  }
 },
 "nbformat": 4,
 "nbformat_minor": 4
}
